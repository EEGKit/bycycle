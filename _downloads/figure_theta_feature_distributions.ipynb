{
  "cells": [
    {
      "cell_type": "code",
      "execution_count": null,
      "metadata": {
        "collapsed": false
      },
      "outputs": [],
      "source": [
        "%matplotlib inline"
      ]
    },
    {
      "cell_type": "markdown",
      "metadata": {},
      "source": [
        "\nTheta oscillation cycle feature distributions\n=============================================\n\n"
      ]
    },
    {
      "cell_type": "markdown",
      "metadata": {},
      "source": [
        "Cycle feature distributions\n---------------------------\n\nThis tutorial computes the distributions of cycle features for two recordings\n\n"
      ]
    },
    {
      "cell_type": "code",
      "execution_count": null,
      "metadata": {
        "collapsed": false
      },
      "outputs": [],
      "source": [
        "import numpy as np\nimport pandas as pd\n\nimport neurodsp\nfrom bycycle.features import compute_features\nfrom scipy import stats\n\nimport matplotlib.pyplot as plt"
      ]
    },
    {
      "cell_type": "code",
      "execution_count": null,
      "metadata": {
        "collapsed": false
      },
      "outputs": [],
      "source": [
        "# Load data\nca1_raw = np.load('data/ca1.npy')\nec3_raw = np.load('data/ec3.npy')\nFs = 1250\nf_theta = (4, 10)"
      ]
    },
    {
      "cell_type": "code",
      "execution_count": null,
      "metadata": {
        "collapsed": false
      },
      "outputs": [],
      "source": [
        "# Apply lowpass filter\nfc = 25\nfilter_seconds = .5\nca1 = neurodsp.filter(ca1, Fs, 'lowpass', fc,\n                      N_seconds=filter_seconds,\n                      remove_edge_artifacts=False)\nec3 = neurodsp.filter(ec3, Fs, 'lowpass', fc,\n                      N_seconds=filter_seconds,\n                      remove_edge_artifacts=False)"
      ]
    },
    {
      "cell_type": "code",
      "execution_count": null,
      "metadata": {
        "collapsed": false
      },
      "outputs": [],
      "source": [
        "# Set parameters for defining oscillatory bursts\nosc_kwargs = {'amplitude_fraction_threshold':0,\n              'amplitude_consistency_threshold':.6,\n              'period_consistency_threshold':.75,\n              'monotonicity_threshold':.8,\n              'N_cycles_min':3}\n\n# Cycle-by-cycle analysis\ndf_ca1 = compute_features(ca1, Fs, f_theta, center_extrema='T',\n                             burst_detection_kwargs=osc_kwargs)\n\ndf_ec3 = compute_features(ec3, Fs, f_theta, center_extrema='T',\n                             burst_detection_kwargs=osc_kwargs)\n\n# Limit analysis only to oscillatory bursts\ndf_ca1_cycles = df_ca1[df_ca1['is_burst']]\ndf_ec3_cycles = df_ec3[df_ec3['is_burst']]"
      ]
    },
    {
      "cell_type": "markdown",
      "metadata": {},
      "source": [
        "Plot time series\n\n"
      ]
    },
    {
      "cell_type": "code",
      "execution_count": null,
      "metadata": {
        "collapsed": false
      },
      "outputs": [],
      "source": [
        "samplims = (10000, 12000)\nca1_plt = ca1_raw[samplims[0]:samplims[1]]/1000\nec3_plt = ec3_raw[samplims[0]:samplims[1]]/1000\nt = np.arange(0, len(ca1_plt)/Fs, 1/Fs)\n\nplt.figure(figsize=(12,3))\nplt.plot(t, ca1_plt, 'k')\nplt.xlim((0,1.6))\nplt.ylim((-2.4,2.4))\nplt.xlabel('Time (s)', size=15)\nplt.ylabel('CA1 Voltage (mV)', size=15)\nplt.xticks(size=12)\nplt.yticks(size=12)\nplt.show()"
      ]
    },
    {
      "cell_type": "code",
      "execution_count": null,
      "metadata": {
        "collapsed": false
      },
      "outputs": [],
      "source": [
        "plt.figure(figsize=(12,3))\nplt.plot(t, ec3_plt, 'r')\nplt.xlim((0,1.6))\nplt.ylim((-2.4,2.4))\nplt.xlabel('Time (s)', size=15)\nplt.ylabel('EC3 Voltage (mV)', size=15)\nplt.xticks(size=12)\nplt.yticks(size=12)\nplt.show()"
      ]
    },
    {
      "cell_type": "markdown",
      "metadata": {},
      "source": [
        "Plot feature distributions\n\n"
      ]
    },
    {
      "cell_type": "code",
      "execution_count": null,
      "metadata": {
        "collapsed": false
      },
      "outputs": [],
      "source": [
        "ylim = 3000\n\nplt.figure(figsize=(5,5))\nplt.hist(df_ca1_cycles['volt_amp']/1000, bins=np.arange(0, 8, .1), color='k', alpha=.5, label='CA1')\nplt.hist(df_ec3_cycles['volt_amp']/1000, bins=np.arange(0, 8, .1), color='r', alpha=.5, label='EC3')\nplt.xticks(np.arange(5), size=12)\nplt.legend(fontsize=15)\nplt.yticks(size=12)\nplt.xlim((0,4.5))\nplt.ylim((0,ylim))\nplt.xlabel('Cycle amplitude (mV)', size=15)\nplt.ylabel('# cycles', size=15)\nplt.show()\n\nplt.figure(figsize=(5,5))\nplt.hist(df_ca1_cycles['period'] / Fs * 1000, bins=np.arange(0, 250, 5), color='k', alpha=.5)\nplt.hist(df_ec3_cycles['period'] / Fs * 1000, bins=np.arange(0, 250, 5), color='r', alpha=.5)\nplt.xticks(size=12)\nplt.yticks(size=12)\nplt.xlim((0,250))\nplt.ylim((0,ylim))\nplt.xlabel('Cycle period (ms)', size=15)\nplt.ylabel('# cycles', size=15)\nplt.show()\n\nplt.figure(figsize=(5,5))\nplt.hist(df_ca1_cycles['time_rdsym'], bins=np.arange(0, 1, .02), color='k', alpha=.5)\nplt.hist(df_ec3_cycles['time_rdsym'], bins=np.arange(0, 1, .02), color='r', alpha=.5)\nplt.plot([.5, .5], [0, ylim], 'k--')\nplt.ylim((0,ylim))\nplt.xticks(size=12)\nplt.yticks(size=12)\nplt.xlim((0,1))\nplt.xlabel('Rise-decay asymmetry\\n(fraction of cycle in rise period)', size=15)\nplt.ylabel('# cycles', size=15)\nplt.show()\n\nplt.figure(figsize=(5,5))\nplt.hist(df_ca1_cycles['time_ptsym'], bins=np.arange(0, 1, .02), color='k', alpha=.5)\nplt.hist(df_ec3_cycles['time_ptsym'], bins=np.arange(0, 1, .02), color='r', alpha=.5)\nplt.plot([.5, .5], [0, ylim], 'k--')\nplt.ylim((0,ylim))\nplt.xticks(size=12)\nplt.yticks(size=12)\nplt.xlim((0,1))\nplt.xlabel('Peak-trough asymmetry\\n(fraction of cycle in peak period)', size=15)\nplt.ylabel('# cycles', size=15)\nplt.show()"
      ]
    },
    {
      "cell_type": "markdown",
      "metadata": {},
      "source": [
        "Try this other example notebook, go \n"
      ]
    },
    {
      "cell_type": "code",
      "execution_count": null,
      "metadata": {
        "collapsed": false
      },
      "outputs": [],
      "source": [
        "[here](04-FOOOFGroup.ipynb)."
      ]
    }
  ],
  "metadata": {
    "kernelspec": {
      "display_name": "Python 3",
      "language": "python",
      "name": "python3"
    },
    "language_info": {
      "codemirror_mode": {
        "name": "ipython",
        "version": 3
      },
      "file_extension": ".py",
      "mimetype": "text/x-python",
      "name": "python",
      "nbconvert_exporter": "python",
      "pygments_lexer": "ipython3",
      "version": "3.6.4"
    }
  },
  "nbformat": 4,
  "nbformat_minor": 0
}