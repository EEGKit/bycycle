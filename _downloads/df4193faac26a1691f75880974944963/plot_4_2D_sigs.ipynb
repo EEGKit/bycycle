{
  "cells": [
    {
      "cell_type": "code",
      "execution_count": null,
      "metadata": {
        "collapsed": false
      },
      "outputs": [],
      "source": [
        "%matplotlib inline"
      ]
    },
    {
      "cell_type": "markdown",
      "metadata": {},
      "source": [
        "\n4. Running Bycycle on 2D Arrays\n===============================\n\nCompute bycycle features for 2D organizations of timeseries.\n\nBycycle supports computing the features of 2D signals using :func:`~.compute_features_2d`.\nSignals may be organized in a different ways, including (n_epochs, n_timepoints) or\n(n_channels, n_timepoints). The difference between these organizataions is that continuity is\npreserved across epochs, but not across channels. The ``axis`` argument is used to specificy either\ncontinuous (``axis=None``) and non-continuous (``axis=0``) recordings.\n"
      ]
    },
    {
      "cell_type": "code",
      "execution_count": null,
      "metadata": {
        "collapsed": false
      },
      "outputs": [],
      "source": [
        "import numpy as np\nimport pandas as pd\nimport matplotlib.pyplot as plt\n\nfrom neurodsp.sim import sim_combined\nfrom bycycle.group import compute_features_2d\nfrom bycycle.utils import flatten_dfs\nfrom bycycle.plts import plot_feature_categorical"
      ]
    },
    {
      "cell_type": "markdown",
      "metadata": {},
      "source": [
        "The ``axis`` Argument\n---------------------\n\nHere, we will show how the axis arguments works. The axis argument be may specified as:\n\n- ``axis=0`` : Iterates over each row/signal in an array independently (i.e. for each channel\n  in (n_channels, n_timepoints)).\n- ``axis=None`` : Flattens rows/signals prior to computing features (i.e. across flatten epochs\n  in (n_epochs, n_timepoints)).\n\n\n"
      ]
    },
    {
      "cell_type": "code",
      "execution_count": null,
      "metadata": {
        "collapsed": false
      },
      "outputs": [],
      "source": [
        "arr = np.ones((3, 4))\n\ndim0_len = np.shape(arr)[0]\n\nprint(\"axis=0\")\nfor dim0 in range(dim0_len):\n    print(np.shape(arr[dim0]))\n\nprint(\"\\naxis=None\")\nprint(np.shape(arr.flatten()))"
      ]
    },
    {
      "cell_type": "markdown",
      "metadata": {},
      "source": [
        "Example 1. 2D Array (n_epochs, n_timepoints)\n--------------------------------------------\nThe features for a 2d array with a (n_epochs, n_timepoints) organization will be computed here.\nThis is an example of when using ``axis = None`` is appropriate, assuming each epoch was recorded\ncontinuously. Data will be simulated to produce to rest and task epochs with varying rise-decay\nsymmetries.\n\n"
      ]
    },
    {
      "cell_type": "code",
      "execution_count": null,
      "metadata": {
        "collapsed": false
      },
      "outputs": [],
      "source": [
        "# Simulation settings\nn_seconds = 10\nfs = 500\n\nfreq = 10\nf_range = (5, 15)\n\nn_epochs = 10\n\n# Define rdsym values for rest and task trials\nrdsym_rest = 0.5\nrdsym_task = 0.75"
      ]
    },
    {
      "cell_type": "code",
      "execution_count": null,
      "metadata": {
        "collapsed": false
      },
      "outputs": [],
      "source": [
        "# Simulate timeseries\nsigs_rest = np.zeros((n_epochs, n_seconds*fs))\nsigs_task = np.zeros((n_epochs, n_seconds*fs))\n\n# Rest epoch\nsim_components_rest = {'sim_powerlaw': dict(exponent=-2),\n                       'sim_bursty_oscillation': dict(freq=10, cycle='asine',\n                                                      enter_burst=0.75, rdsym=rdsym_rest)}\n\n# Task epoch\nsim_components_task = {'sim_powerlaw': dict(exponent=-2),\n                       'sim_bursty_oscillation': dict(freq=10, cycle='asine',\n                                                      enter_burst=0.75, rdsym=rdsym_task)}\n\nfor ep_idx in range(n_epochs):\n    sigs_rest[ep_idx] = sim_combined(n_seconds, fs, components=sim_components_rest)\n    sigs_task[ep_idx] = sim_combined(n_seconds, fs, components=sim_components_task)"
      ]
    },
    {
      "cell_type": "code",
      "execution_count": null,
      "metadata": {
        "collapsed": false
      },
      "outputs": [],
      "source": [
        "# Compute features with default bycycle thresholds\nthresholds = dict(amp_fraction_threshold=0., amp_consistency_threshold=.5,\n                  period_consistency_threshold=.5, monotonicity_threshold=.8,\n                  min_n_cycles=3)\n\ncompute_kwargs = {'burst_method': 'cycles', 'threshold_kwargs': thresholds}\n\ndfs_task = compute_features_2d(sigs_task, fs, f_range, compute_features_kwargs=compute_kwargs,\n                               axis=None)\n\ndfs_rest = compute_features_2d(sigs_rest, fs, f_range, compute_features_kwargs=compute_kwargs,\n                               axis=None)"
      ]
    },
    {
      "cell_type": "code",
      "execution_count": null,
      "metadata": {
        "collapsed": false
      },
      "outputs": [],
      "source": [
        "# Merge into a single dataframe\ndf_task = flatten_dfs(dfs_task, ['task'] * len(dfs_task), 'Epoch')\ndf_rest = flatten_dfs(dfs_rest, ['rest'] * len(dfs_rest), 'Epoch')\n\n# Limit to bursting cycles\ndf_task_bursts = df_task[df_task['is_burst'] == True]\ndf_rest_bursts = df_rest[df_rest['is_burst'] == True]\n\ndf_bursts = pd.concat([df_task_bursts, df_rest_bursts], axis=0)\n\n# Plot\nplot_feature_categorical(df_bursts, 'time_rdsym', group_by='Epoch', ylabel='Rise-Decay Symmetry',\n                         xlabel=['Rest', 'Task'])"
      ]
    },
    {
      "cell_type": "markdown",
      "metadata": {},
      "source": [
        "Example 2. 2D Array (n_copies, n_timepoints)\n--------------------------------------------\n\nIn this example, we will compute features for a 2D array in which we have organized multiple\ncopies of the same signal. Since continutity is not preserved, ``axis=0`` is appropriate. This\nallows for the exploration of different thresholds while taking advantage of parallel processing.\nThis example also shows how a list of dictionaries may be used to pass unique\n``compute_features_kwargs``` to each signal.\n\n"
      ]
    },
    {
      "cell_type": "code",
      "execution_count": null,
      "metadata": {
        "collapsed": false
      },
      "outputs": [],
      "source": [
        "# Simulate a timeseries\nn_copies = 5\n\nsim_components = {'sim_powerlaw': dict(exponent=-2),\n                  'sim_bursty_oscillation': dict(freq=10)}\n\nsig = sim_combined(n_seconds, fs, components=sim_components)\n\nsigs = np.array([sig] * n_copies)"
      ]
    },
    {
      "cell_type": "code",
      "execution_count": null,
      "metadata": {
        "collapsed": false
      },
      "outputs": [],
      "source": [
        "# Step through amp_consistency thresholds by 0.25\nthresholds = dict(amp_fraction_threshold=0., amp_consistency_threshold=.5,\n                  period_consistency_threshold=.5, monotonicity_threshold=.8,\n                  min_n_cycles=3)\n\namp_consist_threshes = [0, .25, .5, .75, 1.]\n\ncompute_kwargs = [{'threshold_kwargs': dict(thresholds, amp_consistency_threshold=thresh)}\n                  for thresh in amp_consist_threshes]\n\n# Compute features\ndfs_features = compute_features_2d(sigs, fs, f_range, compute_features_kwargs=compute_kwargs,\n                                   axis=0, n_jobs=-1, progress=\"tqdm\")"
      ]
    },
    {
      "cell_type": "code",
      "execution_count": null,
      "metadata": {
        "collapsed": false
      },
      "outputs": [],
      "source": [
        "# Plot the number of detected burst at each threshold\nn_bursts = [np.count_nonzero(dfs_features[idx]['is_burst']) for idx in range(n_copies)]\n\nfig = plt.figure(figsize=(8, 8))\nplt.plot(amp_consist_threshes, n_bursts, marker=\"o\")\nplt.xlabel(\"Amplitude Consistency Threshold\")\nplt.ylabel(\"Number of Bursts\")"
      ]
    }
  ],
  "metadata": {
    "kernelspec": {
      "display_name": "Python 3",
      "language": "python",
      "name": "python3"
    },
    "language_info": {
      "codemirror_mode": {
        "name": "ipython",
        "version": 3
      },
      "file_extension": ".py",
      "mimetype": "text/x-python",
      "name": "python",
      "nbconvert_exporter": "python",
      "pygments_lexer": "ipython3",
      "version": "3.8.5"
    }
  },
  "nbformat": 4,
  "nbformat_minor": 0
}