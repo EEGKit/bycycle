{
  "cells": [
    {
      "cell_type": "code",
      "execution_count": null,
      "metadata": {
        "collapsed": false
      },
      "outputs": [],
      "source": [
        "%matplotlib inline"
      ]
    },
    {
      "cell_type": "markdown",
      "metadata": {},
      "source": [
        "\n2. 2D and 3D Signals\n====================\nBycycle supports computing features for 2D and 3D arrays of signals, using\n:func:`~.compute_features_2d` or :func:`~.compute_features_3d`. These signals may be organized in a\nvariety of ways, such as (n_epochs, n_timepoints), (n_channels, n_timepoints), or\n(n_channels,  n_epochs, n_timepoints). The ``axis`` keyword argument may be used to handle various\norganizations of signals. Understanding the axis argument is important to ensure features are\ncomputed in an appropriate manor.\n\nFor 2D arrays:\n\n- Use ``axis = 0`` (default) when each signal is independent from others. This may be the case for\n  an (n_channels, n_timepoints) organization.\n- Use ``axis = None`` when each signal is dependent on others. This may be the case for an\n  (n_epochs, n_timepoints) organization, where each epoch was recorded continuously in a single\n  recording.\n- A 1D list of feature dataframes is returned.\n\nFor 3d arrays:\n\n- Use ``axis = 0`` (default) when computing features independently across the first axis.\n  This is likely the case for a (n_channels, n_epochs, n_timepoints) organization.\n- Use ``axis = 1`` when computing features independently across the second axis. A possible\n  organization is (n_epochs, n_channels, n_timepoints).\n- Use ``axis = (0, 1)`` when computing features independently, for each signal, across both axes.\n  This may be the case for an (n_subjects, n_channels, n_timpoints) oraganization\n- Use ``axis = None`` when each signal is dependent on others. This may be the case for an\n  (n_runs, n_epochs, n_timpoints) oraganization, assuming a continuous recording.\n- A 2D list of feature dataframes is returned.\n"
      ]
    },
    {
      "cell_type": "code",
      "execution_count": null,
      "metadata": {
        "collapsed": false
      },
      "outputs": [],
      "source": [
        "import numpy as np\nimport pandas as pd\nimport matplotlib.pyplot as plt\n\nfrom neurodsp.sim import sim_combined\nfrom bycycle.group import compute_features_2d, compute_features_3d\nfrom bycycle.plts import plot_feature_categorical, plot_feature_hist"
      ]
    },
    {
      "cell_type": "code",
      "execution_count": null,
      "metadata": {
        "collapsed": false
      },
      "outputs": [],
      "source": [
        "# Simulation settings\nn_seconds = 10\nfs = 500\n\nfreq = 10\nf_range = (5, 15)\n\nepochs = 10\nchannels = 5"
      ]
    },
    {
      "cell_type": "markdown",
      "metadata": {},
      "source": [
        "Example 1. 2D Array (n_epochs, n_timepoints)\n--------------------------------------------\nThe features for a 2d array with a (n_epochs, n_timepoints) organiation will be computed here.\nThis is an example of when using ``axis = None`` is appropriate, assuming each epoch was recorded\ncontinuously. Data will be simulated to produce to alternating epoch types (fixation and task)\nwith varying rise-decay symmetries.\n\n"
      ]
    },
    {
      "cell_type": "code",
      "execution_count": null,
      "metadata": {
        "collapsed": false
      },
      "outputs": [],
      "source": [
        "# Simulate a timeseries\nsigs = np.zeros((epochs, n_seconds*fs))\n\nfor idx in range(epochs):\n\n    if idx % 2 == 0:\n        # Fixation epoch\n        sim_components = {'sim_powerlaw': dict(exponent=-2),\n                          'sim_bursty_oscillation': dict(freq=10, cycle='asine',\n                                                         enter_burst=0.75, rdsym=0.5)}\n    else:\n        # Task epoch\n        sim_components = {'sim_powerlaw': dict(exponent=-2),\n                          'sim_bursty_oscillation': dict(freq=10, cycle='asine',\n                                                         enter_burst=0.75, rdsym=0.75)}\n\n    sigs[idx] = sim_combined(n_seconds, fs, components=sim_components)"
      ]
    },
    {
      "cell_type": "code",
      "execution_count": null,
      "metadata": {
        "collapsed": false
      },
      "outputs": [],
      "source": [
        "# Compute features\nthresholds = dict(amp_fraction_threshold=0., amp_consistency_threshold=.5,\n                  period_consistency_threshold=.5, monotonicity_threshold=.8,\n                  min_n_cycles=2)\n\ncompute_kwargs = {'burst_method': 'cycles', 'threshold_kwargs': thresholds}\n\ndf_features = compute_features_2d(sigs, fs, f_range, axis=None,\n                                  compute_features_kwargs=compute_kwargs)"
      ]
    },
    {
      "cell_type": "code",
      "execution_count": null,
      "metadata": {
        "collapsed": false
      },
      "outputs": [],
      "source": [
        "# Add a column specifying epoch type\nfor idx, df in enumerate(df_features):\n    df['epoch'] = 'fixation' if idx % 2 == 0 else 'task'\n\n# Merge into a single dataframe\ndf_concat = pd.concat(df_features, axis=0, ignore_index=True)\n\n# Limit to bursting cycles\ndf_bursts = df_concat[df_concat['is_burst'] == True]\n\n# Plot\nplot_feature_categorical(df_bursts, 'time_rdsym', group_by='epoch', ylabel='Rise-Decay Symmetry',\n                         xlabel=['Fixation', 'Task'])"
      ]
    },
    {
      "cell_type": "markdown",
      "metadata": {},
      "source": [
        "Here we show what would happen if axis = 0 was incorrectly used when computing the features\nfor an (n_epochs, n_timeseries) array. If bursts exist at the edges of epochs, they will be\nincorrectly labeled as non-burst cycles. This is due to the inability to compute consistency\nfeatures for the first and last cycle of each signal.\n\n"
      ]
    },
    {
      "cell_type": "code",
      "execution_count": null,
      "metadata": {
        "collapsed": false
      },
      "outputs": [],
      "source": [
        "df_axis0 = compute_features_2d(sigs, fs, f_range, axis=0, compute_features_kwargs=compute_kwargs)\ndf_concat_axis0 = pd.concat(df_axis0, axis=0, ignore_index=True)\ndf_bursts_axis0 = df_concat_axis0[df_concat_axis0['is_burst'] == True]\n\nprint(\"\"\"\n    Number of bursts (axis = None): {n_bursts_axis_None}\n    Number of bursts (axis = 0   ): {n_bursts_axis_0}\n\"\"\".format(n_bursts_axis_None=len(df_bursts), n_bursts_axis_0=len(df_bursts_axis0)))"
      ]
    },
    {
      "cell_type": "markdown",
      "metadata": {},
      "source": [
        "Example 2. 2D Array (n_copies, n_timepoints)\n--------------------------------------------\nFeatures for a 2D array with an (n_copies, n_timepoints) organization will be computed\nindependently, using axis = 0. Each signal will be indentical, demonstrating the effect\nof various thresholds on burst detection. This example also shows how a list of dictionaries may\nbe passed to compute_features_kwargs, allowing unique kwargs for each signal.\n\n"
      ]
    },
    {
      "cell_type": "code",
      "execution_count": null,
      "metadata": {
        "collapsed": false
      },
      "outputs": [],
      "source": [
        "# Simulate a timeseries\nn_copies = 5\n\nsim_components = {'sim_powerlaw': dict(exponent=-2),\n                  'sim_bursty_oscillation': dict(freq=10)}\n\nsig = sim_combined(n_seconds, fs, components=sim_components)\n\nsigs = np.array([sig] * n_copies)"
      ]
    },
    {
      "cell_type": "code",
      "execution_count": null,
      "metadata": {
        "collapsed": false
      },
      "outputs": [],
      "source": [
        "# Step amp_consistency thresholds by 0.25\nthresholds = dict(amp_fraction_threshold=0., amp_consistency_threshold=.5,\n                  period_consistency_threshold=.5, monotonicity_threshold=.8,\n                  min_n_cycles=2)\n\namp_consist_threshes = [0, .25, .5, .75, 1.]\n\ncompute_kwargs = [{'threshold_kwargs': dict(thresholds.copy(), amp_consistency_threshold=thresh)}\n                  for thresh in amp_consist_threshes]\n\n# Compute features\ndf_features = compute_features_2d(sigs, fs, f_range, axis=0,\n                                  compute_features_kwargs=compute_kwargs)"
      ]
    },
    {
      "cell_type": "code",
      "execution_count": null,
      "metadata": {
        "collapsed": false
      },
      "outputs": [],
      "source": [
        "# Plot the number of detected burst at each threshold\nn_bursts = [np.count_nonzero(df_features[idx]['is_burst']) for idx in range(n_copies)]\n\nfig = plt.figure(figsize=(8, 8))\nplt.plot(amp_consist_threshes, n_bursts, marker=\"o\")\nplt.xlabel(\"Amplitude Consistency Threshold\")\nplt.ylabel(\"Number of Bursts\")"
      ]
    },
    {
      "cell_type": "markdown",
      "metadata": {},
      "source": [
        "Example 3. 3D Array (n_channels, n_epochs, n_timepoints)\n--------------------------------------------------------\nThe features from a 3d array of (n_channels, n_epochs, n_timepoints) will be computed here.\nBursting frequencies and rise-decay symmetry will be modulated across channels and epochs,\nrespectively. The bursting frequencies and rise-decay symmetries will then be compared between\nthe simulated parameters and bycycle's caculation.\n\n"
      ]
    },
    {
      "cell_type": "code",
      "execution_count": null,
      "metadata": {
        "collapsed": false
      },
      "outputs": [],
      "source": [
        "# Simulate a 3d timeseries\nsigs = np.zeros((channels, epochs, n_seconds*fs))\nfreqs = np.linspace(5, 45, 5)\n\nfor ch_idx, freq in zip(range(channels), freqs):\n\n    for ep_idx in range(epochs):\n\n        rdsym = 0.5 if ep_idx % 2 == 0 else 0.8\n\n        sim_components = {'sim_powerlaw': dict(exponent=-2),\n                          'sim_bursty_oscillation': dict(freq=freq, cycle='asine', rdsym=rdsym)}\n\n        sigs[ch_idx][ep_idx] = sim_combined(n_seconds, fs, components=sim_components)"
      ]
    },
    {
      "cell_type": "code",
      "execution_count": null,
      "metadata": {
        "collapsed": false
      },
      "outputs": [],
      "source": [
        "# Compute features\nthresholds = dict(amp_fraction_threshold=0., amp_consistency_threshold=.5,\n                  period_consistency_threshold=.5, monotonicity_threshold=.6,\n                  min_n_cycles=3)\n\ncompute_kwargs = {'burst_method': 'cycles', 'threshold_kwargs': thresholds}\n\ndf_features = compute_features_3d(sigs, fs, (1, 50), axis=0,\n                                  compute_features_kwargs=compute_kwargs)"
      ]
    },
    {
      "cell_type": "code",
      "execution_count": null,
      "metadata": {
        "collapsed": false
      },
      "outputs": [],
      "source": [
        "# Split dfs by channel\ndf_chs = [df_features[ch_idx] for ch_idx in range(channels)]\n\n# Split dfs by epoch type\ndf_fix = pd.concat([df_features[ch_idx][ep_idx] for ep_idx in range(epochs) if ep_idx % 2 == 0\n                    for ch_idx in range(channels)], axis=0, ignore_index=True)\ndf_fix = df_fix[df_fix['is_burst'] == True]\n\ndf_task = pd.concat([df_features[ch_idx][ep_idx] for ep_idx in range(epochs) if ep_idx % 2 != 0\n                     for ch_idx in range(channels)], axis=0, ignore_index=True)\ndf_task = df_task[df_task['is_burst'] == True]"
      ]
    },
    {
      "cell_type": "code",
      "execution_count": null,
      "metadata": {
        "collapsed": false
      },
      "outputs": [],
      "source": [
        "# See how well bycycle estimated each bursting cycles period across channels\nperiods = [pd.concat(df_features[ch_idx], axis=0) for ch_idx in range(channels)]\nperiods = [df[df['is_burst'] == True]['period'].mean() for df in periods]\n\nfreqs_est = [round(fs/ period, 3) for period in periods]\n\ndf_freqs = pd.DataFrame()\ndf_freqs['Channel'] = ['CH_0{idx}'.format(idx=idx) for idx in range(channels)]\ndf_freqs['Simulated Freqs'] = freqs\ndf_freqs['Calculated Freqs'] = freqs_est\ndf_freqs['Error'] = np.abs(freqs - freqs_est)\ndf_freqs"
      ]
    },
    {
      "cell_type": "code",
      "execution_count": null,
      "metadata": {
        "collapsed": false
      },
      "outputs": [],
      "source": [
        "# See how well bycycle estimated each bursting cycle's rise-decay symmetry within epochs\n\ndf_rdsym = pd.DataFrame()\n\ndf_rdsym['Epoch Type'] = ['Fixation', 'Task']\ndf_rdsym['Simulated rdsym'] = [0.5, 0.75]\ndf_rdsym['Calculated rdsym'] = [df_fix['time_rdsym'].mean(), df_task['time_rdsym'].mean()]\ndf_rdsym['Error'] = np.abs(df_rdsym['Simulated rdsym'] - df_rdsym['Calculated rdsym'])\ndf_rdsym"
      ]
    }
  ],
  "metadata": {
    "kernelspec": {
      "display_name": "Python 3",
      "language": "python",
      "name": "python3"
    },
    "language_info": {
      "codemirror_mode": {
        "name": "ipython",
        "version": 3
      },
      "file_extension": ".py",
      "mimetype": "text/x-python",
      "name": "python",
      "nbconvert_exporter": "python",
      "pygments_lexer": "ipython3",
      "version": "3.8.5"
    }
  },
  "nbformat": 4,
  "nbformat_minor": 0
}